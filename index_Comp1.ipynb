{
  "nbformat": 4,
  "nbformat_minor": 0,
  "metadata": {
    "colab": {
      "name": "index_Comp1.ipynb",
      "version": "0.3.2",
      "provenance": []
    },
    "kernelspec": {
      "display_name": "Python 3",
      "language": "python",
      "name": "python3"
    }
  },
  "cells": [
    {
      "metadata": {
        "id": "Od-kaLfPLJHq",
        "colab_type": "text"
      },
      "cell_type": "markdown",
      "source": [
        "\n",
        "# 6th Grade Comprehensive 1 Science Jupyter Notebooks\n",
        "\n",
        "![](https://github.com/SCPSscience/data/blob/master/Comp1png.png?raw=true)\n",
        "\n",
        "### What is Jupyter Notebooks?\n",
        "Jupyter Notebooks is a program that simplifies coding into “blocks” that allows code to be sectioned into chunks that are more easily\n",
        "interpreted and meaningful to students and teachers. Jupyter Notebooks also allows the use of section headings, in-code help\n",
        "comments, and easy reset options which make it a great tool for sharing code for others to manipulate and explore. Jupyter\n",
        "Notebooks uses a type of code called Python, this coding language is used in a wide variety of applications including- web\n",
        "development, app development, and most importantly- analysis of experimental results in scientific research.\n",
        "\n",
        "### Why are we doing this?\n",
        "\n",
        "This coding activity uses the same programing language and system used by many scientists around the world. The goal of this activity is to introduce you to the ways that coding is used in the real world. Organizations like CERN in Geneva, Switzerland use Jupyter Notebooks to analyze data from their particle colliders as they study the composition of atoms (other groups include- NASA, Google, & IBM). Each unit this year has a Jupyter Notebook associated with it, each explores different scientific concepts that are\n",
        "part of that unit for your practice and introduces you to new coding functions like creating graphs, customizing graphs, analyzing\n",
        "data, creating data charts, and sorting large amounts of information.\n",
        "\n",
        "Since this is the first time many of you will work with code, the changes you will be making are small. Others of you, who have coded before, will find opportunity to look into different ways code can be used. Each lesson provides an opportunity for “unstructured coding” where you can explore new ideas you might have or work with the information in a new way. Know that coding is often a community effort in which many people contribute, don’t be afraid to ask for help or offer it.\n",
        "\n",
        "### [Jupyter Notebooks Quick Start Guide](https://github.com/SCPSscience/booklet/raw/master/JupyterNotebooksStudentGuide.pdf)\n",
        "\n",
        "\n",
        "### Unit 1 - Hierarchy of Organisms\n",
        "- [Introduction to Juptyer Notebooks with the Period Table](./BETA_Intro_Comp1.ipynb) Unit 1 - Hierarchy of Organisms (Atoms & Molecules)\n",
        "    [Periodic Trends Coding Booklet](https://github.com/SCPSscience/booklet/raw/master/PeriodicTrends.pdf) \n",
        "![](https://media2.giphy.com/media/lyLRTrqRpW8YU/giphy.gif)    \n",
        "    \n",
        "    \n",
        "### Unit 2 - Variation \n",
        "- [Classification of Organisms](./Classification2018.ipynb) - Unit 2 - Variation -\n",
        "    [Classification of Organisms Coding Booklet](https://github.com/SCPSscience/booklet/raw/master/Classification.pdf) \n",
        "![](https://i.pinimg.com/originals/df/1b/15/df1b1534f577969b05ce64a73c91b930.gif)\n",
        "    \n",
        "    \n",
        "### Unit 5 - Interactions of Spheres\n",
        "- [Earthquakes](./Quakes2018.ipynb) Unit 5 - Interactions of Spheres\n",
        "    [Earthquakes Coding Booklet](https://github.com/SCPSscience/booklet/raw/master/Classification.pdf)  \n",
        "![](http://www.animated-gifs.eu/category_nature/nature-earthquakes/0013.gif)\n",
        "    \n",
        "    \n",
        "### Unit 6 - Beyond Our World    \n",
        "- [Tides](./Tides2018.ipynb) Unit 6 - Beyond Our World\n",
        "    [Tides Coding Booklet](https://github.com/SCPSscience/booklet/raw/master/TidesBooklet.pdf)\n",
        "    ![](https://media3.giphy.com/media/vuvcScwHHC7jG/giphy.gif)"
      ]
    },
    {
      "metadata": {
        "id": "d0iTbHKgLJHw",
        "colab_type": "code",
        "colab": {}
      },
      "cell_type": "code",
      "source": [
        ""
      ],
      "execution_count": 0,
      "outputs": []
    }
  ]
}