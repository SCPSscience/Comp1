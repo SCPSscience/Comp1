{
  "nbformat": 4,
  "nbformat_minor": 0,
  "metadata": {
    "colab": {
      "name": "Tides1902.ipynb",
      "version": "0.3.2",
      "provenance": [],
      "collapsed_sections": [
        "JpZWpRzTxW3Q",
        "vI30wB670vVo",
        "VI6j3HOQq8WD",
        "ZbACDMtb2TMd",
        "KLh_YIxYq8WJ",
        "ue9dxXAE40bt",
        "sAcH4Deyq8WN",
        "QLSNn1a45fs2",
        "mu6IHL_Nq8WT",
        "PWcjjm5q8raF",
        "SDlfRpcs7dII",
        "Y9Xk3CRfq8WY"
      ]
    },
    "kernelspec": {
      "display_name": "Python 3",
      "language": "python",
      "name": "python3"
    }
  },
  "cells": [
    {
      "metadata": {
        "id": "4oRP7FTMq8V6",
        "colab_type": "text"
      },
      "cell_type": "markdown",
      "source": [
        "# <center> Welcome to Jupyter Notebooks - Analyzing the Tides </center>\n",
        "---\n"
      ]
    },
    {
      "metadata": {
        "id": "7erZgCEWv_3a",
        "colab_type": "text"
      },
      "cell_type": "markdown",
      "source": [
        "<center> ![alt text](https://cdn-images-1.medium.com/letterbox/266/72/50/50/1*wOHyKy6fl3ltcBMNpCvC6Q.png?source=logoAvatar-lo_XrkzqdM0PkJD---95916e268740\"Jupyter Notebook Logo\")</center>\n",
        "\n",
        "<center> <font size =\"6pt\" color = \"navyblue\"> **Analyzing the Tides** </font> </center>\n",
        "\n",
        "<center> at Mornington Island, Australia </center>\n",
        "<br>\n",
        "\n",
        "<center> **Some reminders about Jupyter Notebook** </center>\n",
        "\n",
        "Welcome to back to Jupyter Notebooks, your  coding headquarters in science class.  Learning how to code is a lot like learning a new language, the language you will begin to learn today is called _**Python**_.  Python is a language used to write phone applications, program websites, and by scientists for data analysis.  Just like in a foreign language class, you aren't expected to write in paragraphs right away.  \n",
        "<br>\n",
        "**Jupyter Notebooks** is a coding tool that helps you learn to \"speak\" python by breaking code into small parts called **blocks**, writing one block of code is a lot like writing one sentence (if you learn to write enough sentences, you can eventually write paragraphs).\n",
        "<br>\n",
        "<br>\n",
        "The block you are reading right now is called a markdown.  The purpose of a **markdown** is to give you easy to read instructions or explanations between coding blocks.  The grey sections you'll see below are **coding** blocks.  This is where you can edit the code to tell the computer what to do!\n",
        "\n",
        "<center>Access the coding booklet [here](https://drive.google.com/open?id=1kmdd75RuAx1u10B4Yg1jlMpIhMBBxxXJCNLWgKv1rdg)</center>\n"
      ]
    },
    {
      "metadata": {
        "id": "JpZWpRzTxW3Q",
        "colab_type": "text"
      },
      "cell_type": "markdown",
      "source": [
        "# <center> PART 2: Let's gather some star data! </center>\n",
        "---"
      ]
    },
    {
      "metadata": {
        "id": "YNBKKl3bxgL8",
        "colab_type": "text"
      },
      "cell_type": "markdown",
      "source": [
        "The first thing we need to do is import some important instructions for the computer and make sure that it can access our awesome tides data.\n",
        "<br>\n",
        "<br>\n",
        "Press the _**Play Button**_ or press _**Control+Enter**_ to run the code for the 2 boxes for Part 2.  Hopefully, a picture will appear.\n",
        "<br>\n",
        "<br>\n",
        "\n",
        "---\n",
        "> A popup may apear when your start running the code that says <font color = \"red\"> **WARNING: This Notebook is not authored by Google**.</font>  Make sure the box is checked that says **Reset all runtimes before running**, Click <font color = \"blue\"> _**Run Anyway**_</font>, and then <font color = \"blue\"> _**YES**_ </font> to start coding.\n",
        "---"
      ]
    },
    {
      "metadata": {
        "id": "CDzRZvaYq8V7",
        "colab_type": "code",
        "colab": {}
      },
      "cell_type": "code",
      "source": [
        "# The first pieces of code we need to start with are called 'imports'\n",
        "\n",
        "import numpy as np\n",
        "import pandas as pd\n",
        "%matplotlib inline\n",
        "import matplotlib.pyplot as plt\n",
        "\n",
        "# These imports contain programming instructions (called 'modules') to read data, plot data, etc.\n",
        "# You can think of imports like tool boxes. Each tool box contains a different set of tools (modules) to use."
      ],
      "execution_count": 0,
      "outputs": []
    },
    {
      "metadata": {
        "id": "e5usjSpkq8V-",
        "colab_type": "code",
        "colab": {}
      },
      "cell_type": "code",
      "source": [
        "# We need to read some data. Let's use our tool \".read_csv\" located in the \"pd\" import.\n",
        "data = pd.read_csv(\"https://github.com/SCPSscience/data/raw/master/tides.csv\", names = [\"rawData\"])\n",
        "\n",
        "data['height'] = data.rawData.str[13:].astype(float)\n",
        "data['rawTime'] = data.rawData.str[:12]\n",
        "dates = pd.to_datetime(data.rawTime.tolist(), format='%d%m%Y%H%M')\n",
        "tides = pd.Series(data.iloc[:,1].tolist(), dates)\n",
        "\n",
        "from IPython.display import Image\n",
        "from IPython.core.display import HTML \n",
        "Image(url= 'https://www.geekwithenvy.com/wp-content/uploads/2013/01/OceanTides1.jpg')\n"
      ],
      "execution_count": 0,
      "outputs": []
    },
    {
      "metadata": {
        "id": "mua0iIoi0O7V",
        "colab_type": "text"
      },
      "cell_type": "markdown",
      "source": [
        "**Did a sweet picture of how the Moon's gravitational pull creates the low and high tides?  Awesome, that means all of our tide data has been imported as well!**"
      ]
    },
    {
      "metadata": {
        "id": "vI30wB670vVo",
        "colab_type": "text"
      },
      "cell_type": "markdown",
      "source": [
        "# <center> PART 3: Checking Our Data! </center>\n",
        "---"
      ]
    },
    {
      "metadata": {
        "id": "1Yx9Li850-xb",
        "colab_type": "text"
      },
      "cell_type": "markdown",
      "source": [
        "The tides data set is HUGE! Part 3 shows us how just a glimps of this data.  As always, keep clicking the ***play button*** or pressing **Control + Enter** to keep running your code!\n",
        "\n"
      ]
    },
    {
      "metadata": {
        "id": "eWw2WpVJq8WE",
        "colab_type": "code",
        "colab": {}
      },
      "cell_type": "code",
      "source": [
        "tides.head(8)\n",
        "# data displays as year-month-day hours:minutes:seconds height_in_meters"
      ],
      "execution_count": 0,
      "outputs": []
    },
    {
      "metadata": {
        "id": "VI6j3HOQq8WD",
        "colab_type": "text"
      },
      "cell_type": "markdown",
      "source": [
        "### <font color = \"magenta\"> **Part 3 Questions ** </font color = \"magenta\">\n",
        "\n",
        "1. Based on the data in the table how often was the sea level height measured?\n",
        "<br>\n",
        "<br>\n",
        "2. How much did the sea level height change in the time span shown above? (This can be done by changing the numbers in the calculation below, for example, we did 3.000-2.000 meters)"
      ]
    },
    {
      "metadata": {
        "id": "GZ9Yf9Keq8WH",
        "colab_type": "code",
        "colab": {}
      },
      "cell_type": "code",
      "source": [
        "# Calculate the height change below\n",
        "3.000-2.000"
      ],
      "execution_count": 0,
      "outputs": []
    },
    {
      "metadata": {
        "id": "ZbACDMtb2TMd",
        "colab_type": "text"
      },
      "cell_type": "markdown",
      "source": [
        "# <center> PART 4 - Graphing the tides on your Birthday in 2014! </center>\n",
        "---"
      ]
    },
    {
      "metadata": {
        "id": "GU84IoyU3EPL",
        "colab_type": "text"
      },
      "cell_type": "markdown",
      "source": [
        "Run the code below to display the sea level heights for June 1st, 2011.  You can clearly see both the high and low tides.\n",
        "\n",
        "> The time is set on a 24 hour clock which is sometimes called \"Military Time\".  For times after noon, just subtract 12 to figure our your normal time.  For example 1800 is really just 6PM."
      ]
    },
    {
      "metadata": {
        "id": "CUk211P_q8WK",
        "colab_type": "code",
        "colab": {}
      },
      "cell_type": "code",
      "source": [
        "tides['June 1 2011'].plot(title=\"Sea level height (m) for June 1 2011\")"
      ],
      "execution_count": 0,
      "outputs": []
    },
    {
      "metadata": {
        "id": "wdovHGnb4GhF",
        "colab_type": "text"
      },
      "cell_type": "markdown",
      "source": [
        "***I'm pretty sure your birthday in 2014 was not on June 1st, 2011.  Change the code above to display the graph for your birthday in 2014 and run the code.  Don't forget to update the title!***"
      ]
    },
    {
      "metadata": {
        "id": "KLh_YIxYq8WJ",
        "colab_type": "text"
      },
      "cell_type": "markdown",
      "source": [
        "### <font color = \"magenta\"> **Part 4 Questions** </font color = \"magenta\">\n",
        "\n",
        "3. What feature of the graph shows when high tide occurs?\n",
        "<br>\n",
        "<br>\n",
        "4. How many high tides did you birthday in 2014 have? How many low tides?\n",
        "<br>\n",
        "<br>\n",
        "5. How much time separates a high tide and a low tide?"
      ]
    },
    {
      "metadata": {
        "id": "ue9dxXAE40bt",
        "colab_type": "text"
      },
      "cell_type": "markdown",
      "source": [
        "# <center> PART 5: Graphing the tides for your 2013 Birht Month! </center>\n",
        "---"
      ]
    },
    {
      "metadata": {
        "id": "hsK8wwH4-3sH",
        "colab_type": "text"
      },
      "cell_type": "markdown",
      "source": [
        "Run the code below to display the sea level heights for June 1st, 2011.  You can clearly see all the high and low tides for the entire month!  You might notice that not all high tides and not all low tides look the same.  We will talk about those special tides more in Part 7."
      ]
    },
    {
      "metadata": {
        "id": "rCUfdiF1q8WN",
        "colab_type": "code",
        "colab": {}
      },
      "cell_type": "code",
      "source": [
        "# this plots one month of data\n",
        "tides['June 2011'].plot(title=\"Sea level height (m) for June 2011\")"
      ],
      "execution_count": 0,
      "outputs": []
    },
    {
      "metadata": {
        "id": "n5KQD1Zg5Evz",
        "colab_type": "text"
      },
      "cell_type": "markdown",
      "source": [
        "***Have a sweet graph for June 2011? Now hange the code above to display the graph for your birthday month in 2013 and run the code.  Don't forget to update the title!***"
      ]
    },
    {
      "metadata": {
        "id": "sAcH4Deyq8WN",
        "colab_type": "text"
      },
      "cell_type": "markdown",
      "source": [
        "### <font color = \"magenta\"> **Part 5 Questions** </font color = \"magenta\"> \n",
        "\n",
        "6.  How many high tides did that month have?\n",
        "<br>\n",
        "<br>\n",
        "7.  What patterns can you identify in the high and low tides across one month?"
      ]
    },
    {
      "metadata": {
        "id": "QLSNn1a45fs2",
        "colab_type": "text"
      },
      "cell_type": "markdown",
      "source": [
        "# <center> PART 6: Graphing Tidal Data from 2011 to 2015 </center>\n",
        "---"
      ]
    },
    {
      "metadata": {
        "id": "RBed0cpnq8WQ",
        "colab_type": "text"
      },
      "cell_type": "markdown",
      "source": [
        "Let's look at our the tides for our entire data set from 2011 to 2015.  Run the data to see what the sea level heights were in Mornington Island, Austraila and answer the questions for Part 6."
      ]
    },
    {
      "metadata": {
        "id": "GlphV43Fq8WR",
        "colab_type": "code",
        "colab": {}
      },
      "cell_type": "code",
      "source": [
        "# this plots the entire data set\n",
        "tides.plot(title=\"Sea level height (m)\")"
      ],
      "execution_count": 0,
      "outputs": []
    },
    {
      "metadata": {
        "id": "mu6IHL_Nq8WT",
        "colab_type": "text"
      },
      "cell_type": "markdown",
      "source": [
        "### <font color = \"magenta\"> **Part 6 Questions** </font color = \"magenta\"> \n",
        "\n",
        "8. When does the data set begin and end? (Include both the month and year in your answer.)\n",
        "<br>\n",
        "<br>\n",
        "9. How are the Januarys similar between each year?\n",
        "<br>\n",
        "<br>\n",
        "10. What can patterns can you identify based on the high tides over the entire data set?"
      ]
    },
    {
      "metadata": {
        "id": "PWcjjm5q8raF",
        "colab_type": "text"
      },
      "cell_type": "markdown",
      "source": [
        "# <center> PART 7: Missing Data & Special Tides </center>\n",
        "---"
      ]
    },
    {
      "metadata": {
        "id": "uxk84UTz9pU5",
        "colab_type": "text"
      },
      "cell_type": "markdown",
      "source": [
        "<font color = \"Red\"> **Oh No!** </font> There seems to be a gap in our data! Look at your graph from Part 6... see anything missing!  Use the code below to graph the missing data!"
      ]
    },
    {
      "metadata": {
        "id": "pZv6vZVhq8WU",
        "colab_type": "code",
        "colab": {}
      },
      "cell_type": "code",
      "source": [
        "# Look at the graph above and try to find the gap in our data :(\n",
        "# Find the gap in the data by graphing the correct month where the data was lost. \n",
        "\n",
        "tides['June 2011'].plot(title=\"Sea level height (m) for June 2011\")\n",
        "\n"
      ],
      "execution_count": 0,
      "outputs": []
    },
    {
      "metadata": {
        "id": "SDlfRpcs7dII",
        "colab_type": "text"
      },
      "cell_type": "markdown",
      "source": [
        "### <font color = \"magenta\"> **Part 7 Questions** </font color = \"magenta\"> \n",
        "\n",
        "11. There's a small gap in the data set. Can you make a graph that shows where the missing part is using the coding block above? Which month and year was or missing data from?\n",
        "<br>\n",
        "<br>\n",
        "12. Graph the tides for October 2012 in the coding block above. How could you identify a neap tide or a spring tide for October 2012? (Use the resources below for help.)\n",
        "<br>\n",
        "<br>\n",
        "13. This data comes from Australia which is located in the Southern Hemisphere. How might it be different from data taken in Florida?"
      ]
    },
    {
      "metadata": {
        "id": "UM0rngWcq8WX",
        "colab_type": "text"
      },
      "cell_type": "markdown",
      "source": [
        "[Neap & Spring Tides Resource](http://oceanservice.noaa.gov/education/kits/tides/media/supp_tide06a.html)\n",
        "\n",
        "[How do the Tides Work? Tutorial Video](https://youtu.be/5ohDG7RqQ9I)"
      ]
    },
    {
      "metadata": {
        "id": "Y9Xk3CRfq8WY",
        "colab_type": "text"
      },
      "cell_type": "markdown",
      "source": [
        "### BONUS QUESTION!!!\n",
        "Research Mornington Island, Austrailia. Where is it located in Austrailia and what animal do you think it looks like?\n"
      ]
    },
    {
      "metadata": {
        "id": "R28MS16wq8WY",
        "colab_type": "text"
      },
      "cell_type": "markdown",
      "source": [
        "---\n",
        "\n",
        "This data shows sea level height for 2011-2015 at Mornington Island, Australia ([source data](https://data.qld.gov.au/dataset/mornington-island-tide-gauge-archived-interval-recordings/resource/ef6dd15e-64b7-430c-9f97-371c4965414d)).  "
      ]
    },
    {
      "metadata": {
        "id": "gkoYxggPq8WZ",
        "colab_type": "code",
        "colab": {}
      },
      "cell_type": "code",
      "source": [
        ""
      ],
      "execution_count": 0,
      "outputs": []
    }
  ]
}